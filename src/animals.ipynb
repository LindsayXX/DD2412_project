{
 "cells": [
  {
   "cell_type": "code",
   "execution_count": 16,
   "metadata": {},
   "outputs": [
    {
     "name": "stdout",
     "output_type": "stream",
     "text": [
      "1024 684\n"
     ]
    }
   ],
   "source": [
    "import tensorflow as tf\n",
    "import os\n",
    "from PIL import Image\n",
    "import numpy as np\n",
    "\n",
    "#open a random image and check its size\n",
    "im = Image.open(\"/Users/stella/Downloads/Animals_with_Attributes2_3/JPEGImages/hippopotamus/hippopotamus_10003.jpg\")\n",
    "#display.display(Image.open(str('/Users/stella/Downloads/Animals_with_Attributes2_3/JPEGImages/hippopotamus/hippopotamus_10003.jpg')))\n",
    "width, height = im.size \n",
    "print(width,height)\n",
    "\n",
    "#resizing\n",
    "im=im.resize((448,448),resample=0)\n",
    "im.show()\n"
   ]
  },
  {
   "cell_type": "markdown",
   "metadata": {},
   "source": [
    "To load the files as a tf.data.Dataset first create a dataset of the file paths:"
   ]
  },
  {
   "cell_type": "code",
   "execution_count": 2,
   "metadata": {},
   "outputs": [],
   "source": [
    "#source: https://www.tensorflow.org/tutorials/load_data/images\n",
    "def image_paths(dataset_path):\n",
    "    \"\"\"\n",
    "    input: dpath of the whole image dataset\n",
    "    returns: all of the imagepaths and all of the labels/classes\n",
    "    as type tensorflow.python.framework.ops.EagerTensor\n",
    "    \"\"\"\n",
    "    \n",
    "    imagepaths=[]\n",
    "    #os.walk returns a tuple of three elements: (root_dir_path, sub_dirs, files)\n",
    "    \n",
    "    #picking up the names of the subfiles equals the names of the classes \n",
    "    classes = os.walk(dataset_path).__next__()[1]\n",
    "    \n",
    "    # List each sub-directory (the classes)\n",
    "    for c in classes:\n",
    "        #seperate animal folder(=class)\n",
    "        c_dir = os.path.join(dataset_path, c)\n",
    "        #make a walk object for each folder\n",
    "        walk = os.walk(c_dir).__next__()\n",
    "        # Add each image (walk[2]) to the imagepaths list\n",
    "        for sample in walk[2]:\n",
    "            imagepath = os.path.join(c_dir,sample)\n",
    "            imagepaths.append(imagepath)\n",
    "            \n",
    "            \n",
    "    #cpnvert to tensfor  (No, not yet!)     \n",
    "    #imagepaths = tf.convert_to_tensor(imagepaths, dtype=tf.string)\n",
    "    \n",
    "    \n",
    "    return imagepaths     \n",
    "        "
   ]
  },
  {
   "cell_type": "markdown",
   "metadata": {},
   "source": [
    "\n"
   ]
  },
  {
   "cell_type": "code",
   "execution_count": 3,
   "metadata": {},
   "outputs": [],
   "source": [
    "imagepaths= image_paths('/Users/stella/Downloads/Animals_with_Attributes2_3/JPEGImages')  "
   ]
  },
  {
   "cell_type": "markdown",
   "metadata": {},
   "source": [
    "Write a short pure-tensorflow function that converts a file paths to an (image_data, label) pair:"
   ]
  },
  {
   "cell_type": "code",
   "execution_count": 4,
   "metadata": {},
   "outputs": [],
   "source": [
    "#source: https://www.tensorflow.org/tutorials/load_data/images\n",
    "#get the label of one image\n",
    "\n",
    "def get_label(file_path):\n",
    "  # convert the path to a list of path components\n",
    "  parts = tf.strings.split(file_path, '/')\n",
    "  # The second to last is the class-directory\n",
    "  return parts[-2] \n",
    "\n",
    "#get_label('/Users/stella/Downloads/Animals_with_Attributes2_3/JPEGImages/hippopotamus/hippopotamus_10003.jpg')"
   ]
  },
  {
   "cell_type": "code",
   "execution_count": 11,
   "metadata": {},
   "outputs": [],
   "source": [
    "#source: https://www.tensorflow.org/tutorials/load_data/images\n",
    "#decode one image\n",
    "\n",
    "[IMG_WIDTH, IMG_HEIGHT]=[448,448]\n",
    "def decode_img(img):\n",
    "  # convert the compressed string to a 3D uint8 tensor\n",
    "  img = tf.image.decode_jpeg(img, channels=3)\n",
    "  # Use `convert_image_dtype` to convert to floats in the [0,1] range.\n",
    "  img = tf.image.convert_image_dtype(img, tf.float32)\n",
    "  # resize the image to the desired size.\n",
    "  return tf.image.resize(img, [IMG_WIDTH, IMG_HEIGHT])"
   ]
  },
  {
   "cell_type": "code",
   "execution_count": 12,
   "metadata": {},
   "outputs": [],
   "source": [
    "##source: https://www.tensorflow.org/tutorials/load_data/images\n",
    "#return img,label for one image\n",
    "\n",
    "def process_path(file_path):\n",
    "  label = get_label(file_path)\n",
    "  # load the raw data from the file as a string\n",
    "  img = tf.io.read_file(file_path)\n",
    "  img = decode_img(img)\n",
    "  return img, label\n",
    "\n",
    "#process_path('/Users/stella/Downloads/Animals_with_Attributes2_3/JPEGImages/hippopotamus/hippopotamus_10003.jpg')"
   ]
  },
  {
   "cell_type": "code",
   "execution_count": 13,
   "metadata": {},
   "outputs": [
    {
     "data": {
      "text/plain": [
       "<ParallelMapDataset shapes: ((448, 448, 3), ()), types: (tf.float32, tf.string)>"
      ]
     },
     "execution_count": 13,
     "metadata": {},
     "output_type": "execute_result"
    }
   ],
   "source": [
    "# source: https://www.tensorflow.org/tutorials/load_data/images\n",
    "# Set `num_parallel_calls` so multiple images are loaded/processed in parallel.\n",
    "list_ds = tf.data.Dataset.list_files(str('/Users/stella/Downloads/Animals_with_Attributes2_3/JPEGImages/*/*'))\n",
    "labeled_ds = list_ds.map(process_path, num_parallel_calls=tf.data.experimental.AUTOTUNE)\n",
    "labeled_ds"
   ]
  },
  {
   "cell_type": "code",
   "execution_count": 14,
   "metadata": {},
   "outputs": [
    {
     "data": {
      "text/plain": [
       "<ParallelMapDataset shapes: ((448, 448, 3), ()), types: (tf.float32, tf.string)>"
      ]
     },
     "execution_count": 14,
     "metadata": {},
     "output_type": "execute_result"
    }
   ],
   "source": [
    "labeled_ds"
   ]
  },
  {
   "cell_type": "code",
   "execution_count": 15,
   "metadata": {},
   "outputs": [
    {
     "name": "stdout",
     "output_type": "stream",
     "text": [
      "Image shape:  (448, 448, 3)\n",
      "Label:  b'giant+panda'\n"
     ]
    }
   ],
   "source": [
    "# source: https://www.tensorflow.org/tutorials/load_data/images\n",
    "for image, label in labeled_ds.take(1):\n",
    "  print(\"Image shape: \", image.numpy().shape)\n",
    "  print(\"Label: \", label.numpy())"
   ]
  },
  {
   "cell_type": "code",
   "execution_count": null,
   "metadata": {},
   "outputs": [],
   "source": []
  }
 ],
 "metadata": {
  "kernelspec": {
   "display_name": "Python 3",
   "language": "python",
   "name": "python3"
  },
  "language_info": {
   "codemirror_mode": {
    "name": "ipython",
    "version": 3
   },
   "file_extension": ".py",
   "mimetype": "text/x-python",
   "name": "python",
   "nbconvert_exporter": "python",
   "pygments_lexer": "ipython3",
   "version": "3.7.2"
  }
 },
 "nbformat": 4,
 "nbformat_minor": 2
}
