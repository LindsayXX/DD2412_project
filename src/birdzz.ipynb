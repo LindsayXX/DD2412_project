{
 "cells": [
  {
   "cell_type": "code",
   "execution_count": 15,
   "metadata": {},
   "outputs": [
    {
     "name": "stdout",
     "output_type": "stream",
     "text": [
      "320 223\n"
     ]
    }
   ],
   "source": [
    "import tensorflow as tf\n",
    "import os\n",
    "from PIL import Image\n",
    "import numpy as np\n",
    "\n",
    "#open a random image and check its size\n",
    "im = Image.open(\"/Users/stella/Downloads/CUB_200_2011/CUB_200_2011/images/001.Black_footed_Albatross/Black_Footed_Albatross_0001_796111.jpg\")\n",
    "#display.display(Image.open(str('/Users/stella/Downloads/Animals_with_Attributes2_3/JPEGImages/hippopotamus/hippopotamus_10003.jpg')))\n",
    "width, height = im.size \n",
    "print(width,height)\n",
    "\n",
    "#resizing\n",
    "im=im.resize((448,448),resample=0)\n",
    "#im.show()\n",
    "\n",
    "\n"
   ]
  },
  {
   "cell_type": "code",
   "execution_count": 16,
   "metadata": {},
   "outputs": [],
   "source": [
    "#11788 images in this dataset"
   ]
  },
  {
   "cell_type": "code",
   "execution_count": 17,
   "metadata": {},
   "outputs": [],
   "source": [
    "def get_label(file_path):\n",
    "  # convert the path to a list of path components\n",
    "  parts = tf.strings.split(file_path, '/')\n",
    "  # The second to last is the class-directory\n",
    "  return parts[-2] \n",
    "\n",
    "[IMG_WIDTH, IMG_HEIGHT]=[448,448]\n",
    "def decode_img(img):\n",
    "  # convert the compressed string to a 3D uint8 tensor\n",
    "  img = tf.image.decode_jpeg(img, channels=3)\n",
    "  # Use `convert_image_dtype` to convert to floats in the [0,1] range.\n",
    "  img = tf.image.convert_image_dtype(img, tf.float32)\n",
    "  # resize the image to the desired size.\n",
    "  return tf.image.resize(img, [IMG_WIDTH, IMG_HEIGHT])\n",
    "\n",
    "def process_path(file_path):\n",
    "  label = get_label(file_path)\n",
    "  # load the raw data from the file as a string\n",
    "  img = tf.io.read_file(file_path)\n",
    "  img = decode_img(img)\n",
    "  return img, label"
   ]
  },
  {
   "cell_type": "code",
   "execution_count": 18,
   "metadata": {},
   "outputs": [
    {
     "data": {
      "text/plain": [
       "tensorflow.python.data.ops.dataset_ops.DatasetV1Adapter"
      ]
     },
     "execution_count": 18,
     "metadata": {},
     "output_type": "execute_result"
    }
   ],
   "source": [
    "list_ds = tf.data.Dataset.list_files(str('/Users/stella/Downloads/CUB_200_2011/CUB_200_2011/images/*/*'))\n",
    "labeled_ds = list_ds.map(process_path, num_parallel_calls=tf.data.experimental.AUTOTUNE)\n",
    "type(labeled_ds)"
   ]
  },
  {
   "cell_type": "code",
   "execution_count": 19,
   "metadata": {},
   "outputs": [
    {
     "data": {
      "text/plain": [
       "<DatasetV1Adapter shapes: ((448, 448, 3), ()), types: (tf.float32, tf.string)>"
      ]
     },
     "execution_count": 19,
     "metadata": {},
     "output_type": "execute_result"
    }
   ],
   "source": [
    "labeled_ds"
   ]
  },
  {
   "cell_type": "code",
   "execution_count": 20,
   "metadata": {},
   "outputs": [
    {
     "name": "stdout",
     "output_type": "stream",
     "text": [
      "Image shape:  [[[0.38107497 0.37254903 0.3923845 ]\n",
      "  [0.3942052  0.3732318  0.39812678]\n",
      "  [0.40505955 0.37988448 0.4089811 ]\n",
      "  ...\n",
      "  [0.77647066 0.7568628  0.7803922 ]\n",
      "  [0.77647066 0.7568628  0.7803922 ]\n",
      "  [0.7727766  0.76425093 0.7840863 ]]\n",
      "\n",
      " [[0.3945503  0.37800246 0.40056464]\n",
      "  [0.40463734 0.37916    0.4058322 ]\n",
      "  [0.41244847 0.3872734  0.41443455]\n",
      "  ...\n",
      "  [0.7682905  0.7568628  0.7776655 ]\n",
      "  [0.7705425  0.7591148  0.7799175 ]\n",
      "  [0.7724602  0.7644091  0.7840863 ]]\n",
      "\n",
      " [[0.4291834  0.39969367 0.42719895]\n",
      "  [0.43329248 0.40005106 0.42976823]\n",
      "  [0.43330753 0.4029021  0.43251532]\n",
      "  ...\n",
      "  [0.76221573 0.7563028  0.7759106 ]\n",
      "  [0.7644205  0.75850755 0.7781154 ]\n",
      "  [0.7684613  0.7625483  0.78215617]]\n",
      "\n",
      " ...\n",
      "\n",
      " [[0.18374653 0.10207281 0.03143382]\n",
      "  [0.17215607 0.10423766 0.03142316]\n",
      "  [0.16198355 0.1081405  0.03307059]\n",
      "  ...\n",
      "  [0.8126183  0.78516734 0.8126183 ]\n",
      "  [0.8267115  0.78954405 0.8202339 ]\n",
      "  [0.82574844 0.79761493 0.8252934 ]]\n",
      "\n",
      " [[0.18624826 0.10209949 0.03655832]\n",
      "  [0.17702001 0.10482524 0.03700105]\n",
      "  [0.16942841 0.10821517 0.03490021]\n",
      "  ...\n",
      "  [0.8130069  0.7862493  0.8133536 ]\n",
      "  [0.82547307 0.79126614 0.82096916]\n",
      "  [0.8252195  0.79954505 0.8260287 ]]\n",
      "\n",
      " [[0.1917017  0.10241598 0.03944328]\n",
      "  [0.18294819 0.10980393 0.04245448]\n",
      "  [0.17760855 0.11094189 0.04035364]\n",
      "  ...\n",
      "  [0.809489   0.7843138  0.81062686]\n",
      "  [0.81824243 0.79079145 0.81824243]\n",
      "  [0.8196079  0.79954505 0.823302  ]]]\n",
      "Label:  tf.Tensor(b'056.Pine_Grosbeak', shape=(), dtype=string)\n"
     ]
    }
   ],
   "source": [
    "# source: https://www.tensorflow.org/tutorials/load_data/images\n",
    "#randomly take one image and see the image and its label\n",
    "for image, label in labeled_ds.take(1):\n",
    "  print(\"Image shape: \", image.numpy())\n",
    "  print(\"Label: \", label)"
   ]
  },
  {
   "cell_type": "code",
   "execution_count": 21,
   "metadata": {},
   "outputs": [],
   "source": [
    "#SPLIT TRAIN,VAL,TEST\n",
    "DATASET_SIZE=37322\n",
    "train_size = int(0.7 * DATASET_SIZE)\n",
    "val_size = int(0.15 * DATASET_SIZE)\n",
    "test_size = int(0.15 * DATASET_SIZE)\n",
    "\n",
    "full_dataset = labeled_ds\n",
    "raw_train = full_dataset.take(train_size)\n",
    "test_dataset = full_dataset.skip(train_size)\n",
    "raw_validation = test_dataset.skip(test_size)\n",
    "raw_test = test_dataset.take(test_size)"
   ]
  },
  {
   "cell_type": "code",
   "execution_count": 22,
   "metadata": {},
   "outputs": [
    {
     "name": "stdout",
     "output_type": "stream",
     "text": [
      "<DatasetV1Adapter shapes: ((448, 448, 3), ()), types: (tf.float32, tf.string)>\n",
      "<DatasetV1Adapter shapes: ((448, 448, 3), ()), types: (tf.float32, tf.string)>\n",
      "<DatasetV1Adapter shapes: ((448, 448, 3), ()), types: (tf.float32, tf.string)>\n"
     ]
    }
   ],
   "source": [
    "print(raw_train)\n",
    "print(raw_validation)\n",
    "print(raw_test)"
   ]
  },
  {
   "cell_type": "code",
   "execution_count": 23,
   "metadata": {},
   "outputs": [],
   "source": [
    "\n",
    "\n",
    "def format_example(image, label):\n",
    "  image = tf.cast(image, tf.float32)\n",
    "  image = (image/127.5) - 1\n",
    "  image = tf.image.resize(image, (IMG_SIZE, IMG_SIZE))\n",
    "  return image, label\n"
   ]
  },
  {
   "cell_type": "code",
   "execution_count": 24,
   "metadata": {},
   "outputs": [],
   "source": [
    "train = raw_train.map(format_example)\n",
    "validation = raw_validation.map(format_example)\n",
    "test = raw_test.map(format_example)"
   ]
  },
  {
   "cell_type": "code",
   "execution_count": 25,
   "metadata": {},
   "outputs": [],
   "source": [
    "BATCH_SIZE = 32\n",
    "SHUFFLE_BUFFER_SIZE = 1000\n",
    "train_batches = train.shuffle(SHUFFLE_BUFFER_SIZE).batch(BATCH_SIZE)\n",
    "validation_batches = validation.batch(BATCH_SIZE)\n",
    "test_batches = test.batch(BATCH_SIZE)"
   ]
  },
  {
   "cell_type": "code",
   "execution_count": 26,
   "metadata": {},
   "outputs": [
    {
     "data": {
      "text/plain": [
       "TensorShape([32, 448, 448, 3])"
      ]
     },
     "execution_count": 26,
     "metadata": {},
     "output_type": "execute_result"
    }
   ],
   "source": [
    "for image_batch, label_batch in train_batches.take(1):\n",
    "   pass\n",
    "\n",
    "image_batch.shape"
   ]
  },
  {
   "cell_type": "code",
   "execution_count": 27,
   "metadata": {},
   "outputs": [],
   "source": [
    "base_model = tf.keras.applications.vgg19.VGG19(include_top=False, \n",
    "                                               weights='imagenet', \n",
    "                                               input_tensor=None, \n",
    "                                               input_shape=None,\n",
    "                                               pooling=None, \n",
    "                                               classes=1000)"
   ]
  },
  {
   "cell_type": "code",
   "execution_count": 28,
   "metadata": {},
   "outputs": [
    {
     "name": "stdout",
     "output_type": "stream",
     "text": [
      "(32, 14, 14, 512)\n"
     ]
    }
   ],
   "source": [
    "feature_batch = base_model(image_batch)\n",
    "print(feature_batch.shape)"
   ]
  },
  {
   "cell_type": "code",
   "execution_count": 29,
   "metadata": {},
   "outputs": [],
   "source": [
    "#FREEZING\n",
    "\n",
    "base_model.trainable = False\n",
    "\n"
   ]
  },
  {
   "cell_type": "code",
   "execution_count": null,
   "metadata": {},
   "outputs": [],
   "source": []
  }
 ],
 "metadata": {
  "kernelspec": {
   "display_name": "Python 3",
   "language": "python",
   "name": "python3"
  },
  "language_info": {
   "codemirror_mode": {
    "name": "ipython",
    "version": 3
   },
   "file_extension": ".py",
   "mimetype": "text/x-python",
   "name": "python",
   "nbconvert_exporter": "python",
   "pygments_lexer": "ipython3",
   "version": "3.7.4"
  }
 },
 "nbformat": 4,
 "nbformat_minor": 2
}
